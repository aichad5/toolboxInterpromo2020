{
 "cells": [
  {
   "cell_type": "markdown",
   "metadata": {},
   "source": [
    "### I ) Extraction du nom des compagnies aériennes et du lien vers les reviews  \n",
    "-> Dataframe df_compagnies.csv"
   ]
  },
  {
   "cell_type": "code",
   "execution_count": 7,
   "metadata": {},
   "outputs": [],
   "source": [
    "import urllib.request\n",
    "from bs4 import BeautifulSoup\n",
    "from selenium import webdriver\n",
    "from selenium.webdriver.firefox.options import Options\n",
    "import time\n",
    "import pandas as pd\n",
    "import numpy as np\n",
    "from datetime import datetime, timedelta"
   ]
  },
  {
   "cell_type": "code",
   "execution_count": 2,
   "metadata": {},
   "outputs": [],
   "source": [
    "options = Options()\n",
    "#options.headless = True\n",
    "\n",
    "driver = webdriver.Firefox(options=options)"
   ]
  },
  {
   "cell_type": "code",
   "execution_count": 3,
   "metadata": {},
   "outputs": [
    {
     "data": {
      "text/plain": [
       "'https://www.tripadvisor.fr/Search?q=compagnie aerienne'"
      ]
     },
     "execution_count": 3,
     "metadata": {},
     "output_type": "execute_result"
    }
   ],
   "source": [
    "domaine = 'https://www.tripadvisor.fr'\n",
    "url = f\"{domaine}/Search?q=compagnie aerienne\"\n",
    "url"
   ]
  },
  {
   "cell_type": "code",
   "execution_count": 4,
   "metadata": {},
   "outputs": [],
   "source": [
    "driver.get(url)"
   ]
  },
  {
   "cell_type": "code",
   "execution_count": 5,
   "metadata": {},
   "outputs": [],
   "source": [
    "dict_compagnies = {}"
   ]
  },
  {
   "cell_type": "code",
   "execution_count": 6,
   "metadata": {},
   "outputs": [
    {
     "name": "stdout",
     "output_type": "stream",
     "text": [
      "page : 1 \t nombre de compagnies : 30\n",
      "page : 2 \t nombre de compagnies : 60\n",
      "page : 3 \t nombre de compagnies : 90\n",
      "page : 4 \t nombre de compagnies : 120\n",
      "page : 5 \t nombre de compagnies : 150\n",
      "page : 6 \t nombre de compagnies : 174\n",
      "page : 7 \t nombre de compagnies : 191\n",
      "page : 8 \t nombre de compagnies : 204\n",
      "page : 9 \t nombre de compagnies : 212\n",
      "page : 10 \t nombre de compagnies : 214\n",
      "page : 11 \t nombre de compagnies : 221\n",
      "page : 12 \t nombre de compagnies : 222\n",
      "page : 13 \t nombre de compagnies : 225\n",
      "page : 14 \t nombre de compagnies : 228\n",
      "page : 15 \t nombre de compagnies : 230\n",
      "page : 16 \t nombre de compagnies : 231\n",
      "page : 17 \t nombre de compagnies : 233\n",
      "page : 18 \t nombre de compagnies : 233\n",
      "page : 19 \t nombre de compagnies : 234\n",
      "page : 20 \t nombre de compagnies : 235\n",
      "page : 21 \t nombre de compagnies : 237\n",
      "page : 22 \t nombre de compagnies : 237\n",
      "page : 23 \t nombre de compagnies : 238\n",
      "page : 24 \t nombre de compagnies : 238\n",
      "page : 25 \t nombre de compagnies : 238\n",
      "page : 26 \t nombre de compagnies : 239\n",
      "page : 27 \t nombre de compagnies : 239\n",
      "page : 28 \t nombre de compagnies : 239\n",
      "page : 29 \t nombre de compagnies : 239\n",
      "page : 30 \t nombre de compagnies : 239\n",
      "page : 31 \t nombre de compagnies : 239\n",
      "page : 32 \t nombre de compagnies : 240\n",
      "page : 33 \t nombre de compagnies : 240\n",
      "page : 34 \t nombre de compagnies : 240\n"
     ]
    }
   ],
   "source": [
    "scrapping_continue = True\n",
    "while scrapping_continue:\n",
    "\n",
    "    # wait for loading to finish\n",
    "    time.sleep(10 + np.random.random(1)[0]*5)\n",
    "    driver.execute_script(\"window.scrollTo(0, document.body.scrollHeight);var lenOfPage=document.body.scrollHeight;return lenOfPage;\")\n",
    "\n",
    "    # click bouton plus\n",
    "    btn_plus = driver.find_elements_by_xpath(\".//div[@class='show-block show-more' and @data-widget-type='LOCATIONS']\")\n",
    "    if btn_plus : \n",
    "        btn_plus = btn_plus[0]\n",
    "        btn_plus.click()\n",
    "\n",
    "    compagnies_aeriennes = driver.find_elements_by_xpath(\".//div[contains(@class,'ui_column is-12 content-column result-card') and @data-widget-type='LOCATIONS']\")\n",
    "    for ca in compagnies_aeriennes:\n",
    "        nom = ca.find_elements_by_xpath(\".//div[@class='location-meta-block']//span\")\n",
    "        if nom : nom = nom[0].text\n",
    "        else : nom = None\n",
    "\n",
    "        lien = ca.find_elements_by_xpath(\".//a\")\n",
    "        if lien : lien = lien[0].get_attribute(\"href\")\n",
    "        else : lien = None\n",
    "\n",
    "        tag = ca.find_elements_by_xpath(\".//span[@class='thumbnail-overlay-tag']\")\n",
    "        if tag : tag = tag[0].text\n",
    "        else : tag = None\n",
    "\n",
    "        if (nom is not None) and (tag == 'Compagnies aériennes') :\n",
    "            dict_compagnies[nom] = lien\n",
    "            \n",
    "    # current page\n",
    "    current_page = driver.find_elements_by_xpath(\"//a[@class='pageNum current']\")\n",
    "    if current_page : current_page = current_page[0].text\n",
    "    else : current_page = None\n",
    "    print(\"page :\", current_page, \"\\t nombre de compagnies :\", len(dict_compagnies))\n",
    "    \n",
    "    # sauvegarde\n",
    "    df_compagnies = pd.DataFrame(pd.Series(dict_compagnies)).reset_index()\n",
    "    df_compagnies.columns = ['Compagnie','link']\n",
    "    df_compagnies.to_csv('df_compagnies.csv', sep='§', encoding='utf-8')\n",
    "    \n",
    "    # click sur bouton suivant (next page)\n",
    "    suivant = driver.find_elements_by_xpath(\"//*//a[@class='ui_button nav next primary ']\")\n",
    "    if suivant : \n",
    "        suivant = suivant[0]\n",
    "        suivant.click()\n",
    "    else : scrapping_continue = False"
   ]
  },
  {
   "cell_type": "code",
   "execution_count": null,
   "metadata": {},
   "outputs": [],
   "source": []
  },
  {
   "cell_type": "code",
   "execution_count": null,
   "metadata": {},
   "outputs": [],
   "source": []
  },
  {
   "cell_type": "code",
   "execution_count": null,
   "metadata": {},
   "outputs": [],
   "source": []
  },
  {
   "cell_type": "code",
   "execution_count": null,
   "metadata": {},
   "outputs": [],
   "source": []
  },
  {
   "cell_type": "code",
   "execution_count": null,
   "metadata": {},
   "outputs": [],
   "source": []
  },
  {
   "cell_type": "code",
   "execution_count": null,
   "metadata": {},
   "outputs": [],
   "source": []
  }
 ],
 "metadata": {
  "kernelspec": {
   "display_name": "Python 3",
   "language": "python",
   "name": "python3"
  },
  "language_info": {
   "codemirror_mode": {
    "name": "ipython",
    "version": 3
   },
   "file_extension": ".py",
   "mimetype": "text/x-python",
   "name": "python",
   "nbconvert_exporter": "python",
   "pygments_lexer": "ipython3",
   "version": "3.6.9"
  }
 },
 "nbformat": 4,
 "nbformat_minor": 2
}
